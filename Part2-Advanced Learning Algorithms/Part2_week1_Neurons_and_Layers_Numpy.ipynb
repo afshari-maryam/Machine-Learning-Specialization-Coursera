{
  "nbformat": 4,
  "nbformat_minor": 0,
  "metadata": {
    "colab": {
      "provenance": [],
      "authorship_tag": "ABX9TyPBIm5t1kMZ2jqdYnQaqkmx",
      "include_colab_link": true
    },
    "kernelspec": {
      "name": "python3",
      "display_name": "Python 3"
    },
    "language_info": {
      "name": "python"
    }
  },
  "cells": [
    {
      "cell_type": "markdown",
      "metadata": {
        "id": "view-in-github",
        "colab_type": "text"
      },
      "source": [
        "<a href=\"https://colab.research.google.com/github/afshari-maryam/Machine-Learning-Specialization-Coursera/blob/main/Part2-Advanced%20Learning%20Algorithms/Part2_week1_Neurons_and_Layers_Numpy.ipynb\" target=\"_parent\"><img src=\"https://colab.research.google.com/assets/colab-badge.svg\" alt=\"Open In Colab\"/></a>"
      ]
    },
    {
      "cell_type": "code",
      "execution_count": 2,
      "metadata": {
        "id": "m0DbHkDTAj6v"
      },
      "outputs": [],
      "source": [
        "import numpy as np\n",
        "import matplotlib.pyplot as plt\n",
        "#plt.style.use('./deeplearning.mplstyle')\n",
        "import tensorflow as tf\n",
        "#from lab_utils_common import dlc, sigmoid\n",
        "#from lab_coffee_utils import load_coffee_data, plt_roast, plt_prob, plt_layer, plt_network, plt_output_unit\n",
        "import logging\n",
        "logging.getLogger(\"tensorflow\").setLevel(logging.ERROR)\n",
        "tf.autograph.set_verbosity(0)"
      ]
    },
    {
      "cell_type": "markdown",
      "source": [
        "#Numpy Model (Forward Prop in NumPy)"
      ],
      "metadata": {
        "id": "j2otG_hsBX6U"
      }
    },
    {
      "cell_type": "code",
      "source": [
        "def my_dense(a_in, W, b, g):\n",
        "    \"\"\"\n",
        "    Computes dense layer\n",
        "    Args:\n",
        "      a_in (ndarray (n, )) : Data, 1 example \n",
        "      W    (ndarray (n,j)) : Weight matrix, n features per unit, j units\n",
        "      b    (ndarray (j, )) : bias vector, j units  \n",
        "      g    activation function (e.g. sigmoid, relu..)\n",
        "    Returns\n",
        "      a_out (ndarray (j,))  : j units|\n",
        "    \"\"\"\n",
        "    units = W.shape[1]\n",
        "    a_out = np.zeros(units)\n",
        "    for j in range(units):               \n",
        "        w = W[:,j]                                    \n",
        "        z = np.dot(w, a_in) + b[j]         \n",
        "        a_out[j] = g(z)               \n",
        "    return(a_out)"
      ],
      "metadata": {
        "id": "tB1AipGaBZk8"
      },
      "execution_count": 3,
      "outputs": []
    },
    {
      "cell_type": "code",
      "source": [
        "def my_sequential(x, W1, b1, W2, b2):\n",
        "    a1 = my_dense(x,  W1, b1, sigmoid)\n",
        "    a2 = my_dense(a1, W2, b2, sigmoid)\n",
        "    return(a2)"
      ],
      "metadata": {
        "id": "hAdFnUrZBelM"
      },
      "execution_count": 4,
      "outputs": []
    },
    {
      "cell_type": "code",
      "source": [
        "W1_tmp = np.array( [[-8.93,  0.29, 12.9 ], [-0.1,  -7.32, 10.81]] )\n",
        "b1_tmp = np.array( [-9.82, -9.28,  0.96] )\n",
        "W2_tmp = np.array( [[-31.18], [-27.59], [-32.56]] )\n",
        "b2_tmp = np.array( [15.41] )"
      ],
      "metadata": {
        "id": "uIoFXC6rBgtM"
      },
      "execution_count": 5,
      "outputs": []
    },
    {
      "cell_type": "markdown",
      "source": [
        "#prediction"
      ],
      "metadata": {
        "id": "8he3u-siBlHu"
      }
    },
    {
      "cell_type": "code",
      "source": [
        "def my_predict(X, W1, b1, W2, b2):\n",
        "    m = X.shape[0]\n",
        "    p = np.zeros((m,1))\n",
        "    for i in range(m):\n",
        "        p[i,0] = my_sequential(X[i], W1, b1, W2, b2)\n",
        "    return(p)"
      ],
      "metadata": {
        "id": "s13dO_CyBnFG"
      },
      "execution_count": 6,
      "outputs": []
    },
    {
      "cell_type": "code",
      "source": [
        "X_tst = np.array([\n",
        "    [200,13.9],  # postive example\n",
        "    [200,17]])   # negative example\n",
        "X_tstn = norm_l(X_tst)  # remember to normalize\n",
        "predictions = my_predict(X_tstn, W1_tmp, b1_tmp, W2_tmp, b2_tmp)"
      ],
      "metadata": {
        "id": "t2IYDteABp1X"
      },
      "execution_count": null,
      "outputs": []
    },
    {
      "cell_type": "code",
      "source": [
        "yhat = np.zeros_like(predictions)\n",
        "for i in range(len(predictions)):\n",
        "    if predictions[i] >= 0.5:\n",
        "        yhat[i] = 1\n",
        "    else:\n",
        "        yhat[i] = 0\n",
        "print(f\"decisions = \\n{yhat}\")"
      ],
      "metadata": {
        "id": "UXEeUfPdBs1N"
      },
      "execution_count": null,
      "outputs": []
    },
    {
      "cell_type": "code",
      "source": [
        "yhat = (predictions >= 0.5).astype(int)\n",
        "print(f\"decisions = \\n{yhat}\")"
      ],
      "metadata": {
        "id": "MUXVm6GgB0Fl"
      },
      "execution_count": null,
      "outputs": []
    },
    {
      "cell_type": "markdown",
      "source": [
        "#Network function"
      ],
      "metadata": {
        "id": "VNV-4bntB4uF"
      }
    },
    {
      "cell_type": "code",
      "source": [
        "netf= lambda x : my_predict(norm_l(x),W1_tmp, b1_tmp, W2_tmp, b2_tmp)\n",
        "plt_network(X,Y,netf)"
      ],
      "metadata": {
        "id": "RHso3nM5B2fO"
      },
      "execution_count": null,
      "outputs": []
    }
  ]
}